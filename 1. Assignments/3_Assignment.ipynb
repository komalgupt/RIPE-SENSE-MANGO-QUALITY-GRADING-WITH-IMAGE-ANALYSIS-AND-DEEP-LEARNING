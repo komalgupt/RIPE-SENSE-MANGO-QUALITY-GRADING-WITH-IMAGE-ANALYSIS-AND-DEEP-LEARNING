{
 "cells": [
  {
   "cell_type": "code",
   "execution_count": null,
   "id": "61c8976d-cd9d-4118-8419-4ee458737744",
   "metadata": {},
   "outputs": [],
   "source": []
  },
  {
   "cell_type": "code",
   "execution_count": 1,
   "id": "e1b9d03c-c526-4003-86cf-0f8bedc06416",
   "metadata": {},
   "outputs": [],
   "source": [
    "import pandas as pd \n",
    "import numpy as np\n",
    "from sklearn.preprocessing import StandardScaler, LabelEncoder \n",
    "from matplotlib import pyplot as plt\n"
   ]
  },
  {
   "cell_type": "code",
   "execution_count": 2,
   "id": "635508c7-b6ac-4a48-abe8-9ed56a56e27a",
   "metadata": {},
   "outputs": [],
   "source": [
    "data = pd.read_csv(\"drug200.csv\")"
   ]
  },
  {
   "cell_type": "code",
   "execution_count": 3,
   "id": "0b64368a-a817-4ca5-8cb0-7580df9dfd68",
   "metadata": {},
   "outputs": [
    {
     "data": {
      "text/html": [
       "<div>\n",
       "<style scoped>\n",
       "    .dataframe tbody tr th:only-of-type {\n",
       "        vertical-align: middle;\n",
       "    }\n",
       "\n",
       "    .dataframe tbody tr th {\n",
       "        vertical-align: top;\n",
       "    }\n",
       "\n",
       "    .dataframe thead th {\n",
       "        text-align: right;\n",
       "    }\n",
       "</style>\n",
       "<table border=\"1\" class=\"dataframe\">\n",
       "  <thead>\n",
       "    <tr style=\"text-align: right;\">\n",
       "      <th></th>\n",
       "      <th>Age</th>\n",
       "      <th>Sex</th>\n",
       "      <th>BP</th>\n",
       "      <th>Cholesterol</th>\n",
       "      <th>Na_to_K</th>\n",
       "      <th>Drug</th>\n",
       "    </tr>\n",
       "  </thead>\n",
       "  <tbody>\n",
       "    <tr>\n",
       "      <th>0</th>\n",
       "      <td>23</td>\n",
       "      <td>F</td>\n",
       "      <td>HIGH</td>\n",
       "      <td>HIGH</td>\n",
       "      <td>25.355</td>\n",
       "      <td>DrugY</td>\n",
       "    </tr>\n",
       "    <tr>\n",
       "      <th>1</th>\n",
       "      <td>47</td>\n",
       "      <td>M</td>\n",
       "      <td>LOW</td>\n",
       "      <td>HIGH</td>\n",
       "      <td>13.093</td>\n",
       "      <td>drugC</td>\n",
       "    </tr>\n",
       "    <tr>\n",
       "      <th>2</th>\n",
       "      <td>47</td>\n",
       "      <td>M</td>\n",
       "      <td>LOW</td>\n",
       "      <td>HIGH</td>\n",
       "      <td>10.114</td>\n",
       "      <td>drugC</td>\n",
       "    </tr>\n",
       "    <tr>\n",
       "      <th>3</th>\n",
       "      <td>28</td>\n",
       "      <td>F</td>\n",
       "      <td>NORMAL</td>\n",
       "      <td>HIGH</td>\n",
       "      <td>7.798</td>\n",
       "      <td>drugX</td>\n",
       "    </tr>\n",
       "    <tr>\n",
       "      <th>4</th>\n",
       "      <td>61</td>\n",
       "      <td>F</td>\n",
       "      <td>LOW</td>\n",
       "      <td>HIGH</td>\n",
       "      <td>18.043</td>\n",
       "      <td>DrugY</td>\n",
       "    </tr>\n",
       "  </tbody>\n",
       "</table>\n",
       "</div>"
      ],
      "text/plain": [
       "   Age Sex      BP Cholesterol  Na_to_K   Drug\n",
       "0   23   F    HIGH        HIGH   25.355  DrugY\n",
       "1   47   M     LOW        HIGH   13.093  drugC\n",
       "2   47   M     LOW        HIGH   10.114  drugC\n",
       "3   28   F  NORMAL        HIGH    7.798  drugX\n",
       "4   61   F     LOW        HIGH   18.043  DrugY"
      ]
     },
     "execution_count": 3,
     "metadata": {},
     "output_type": "execute_result"
    }
   ],
   "source": [
    "data.head()"
   ]
  },
  {
   "cell_type": "code",
   "execution_count": 4,
   "id": "c2babd4c-bc37-4bed-a5bc-5170e8a431d4",
   "metadata": {},
   "outputs": [
    {
     "data": {
      "text/html": [
       "<div>\n",
       "<style scoped>\n",
       "    .dataframe tbody tr th:only-of-type {\n",
       "        vertical-align: middle;\n",
       "    }\n",
       "\n",
       "    .dataframe tbody tr th {\n",
       "        vertical-align: top;\n",
       "    }\n",
       "\n",
       "    .dataframe thead th {\n",
       "        text-align: right;\n",
       "    }\n",
       "</style>\n",
       "<table border=\"1\" class=\"dataframe\">\n",
       "  <thead>\n",
       "    <tr style=\"text-align: right;\">\n",
       "      <th></th>\n",
       "      <th>Age</th>\n",
       "      <th>Na_to_K</th>\n",
       "    </tr>\n",
       "  </thead>\n",
       "  <tbody>\n",
       "    <tr>\n",
       "      <th>count</th>\n",
       "      <td>200.000000</td>\n",
       "      <td>200.000000</td>\n",
       "    </tr>\n",
       "    <tr>\n",
       "      <th>mean</th>\n",
       "      <td>44.315000</td>\n",
       "      <td>16.084485</td>\n",
       "    </tr>\n",
       "    <tr>\n",
       "      <th>std</th>\n",
       "      <td>16.544315</td>\n",
       "      <td>7.223956</td>\n",
       "    </tr>\n",
       "    <tr>\n",
       "      <th>min</th>\n",
       "      <td>15.000000</td>\n",
       "      <td>6.269000</td>\n",
       "    </tr>\n",
       "    <tr>\n",
       "      <th>25%</th>\n",
       "      <td>31.000000</td>\n",
       "      <td>10.445500</td>\n",
       "    </tr>\n",
       "    <tr>\n",
       "      <th>50%</th>\n",
       "      <td>45.000000</td>\n",
       "      <td>13.936500</td>\n",
       "    </tr>\n",
       "    <tr>\n",
       "      <th>75%</th>\n",
       "      <td>58.000000</td>\n",
       "      <td>19.380000</td>\n",
       "    </tr>\n",
       "    <tr>\n",
       "      <th>max</th>\n",
       "      <td>74.000000</td>\n",
       "      <td>38.247000</td>\n",
       "    </tr>\n",
       "  </tbody>\n",
       "</table>\n",
       "</div>"
      ],
      "text/plain": [
       "              Age     Na_to_K\n",
       "count  200.000000  200.000000\n",
       "mean    44.315000   16.084485\n",
       "std     16.544315    7.223956\n",
       "min     15.000000    6.269000\n",
       "25%     31.000000   10.445500\n",
       "50%     45.000000   13.936500\n",
       "75%     58.000000   19.380000\n",
       "max     74.000000   38.247000"
      ]
     },
     "execution_count": 4,
     "metadata": {},
     "output_type": "execute_result"
    }
   ],
   "source": [
    "#Data Preprocessing \n",
    "data.describe()"
   ]
  },
  {
   "cell_type": "code",
   "execution_count": null,
   "id": "c9501293-f3ad-4238-8a24-834462c8f30c",
   "metadata": {},
   "outputs": [],
   "source": []
  },
  {
   "cell_type": "code",
   "execution_count": 5,
   "id": "6630d392-229f-4447-bfd6-ab67f50a9883",
   "metadata": {},
   "outputs": [
    {
     "name": "stdout",
     "output_type": "stream",
     "text": [
      "<class 'pandas.core.frame.DataFrame'>\n",
      "RangeIndex: 200 entries, 0 to 199\n",
      "Data columns (total 6 columns):\n",
      " #   Column       Non-Null Count  Dtype  \n",
      "---  ------       --------------  -----  \n",
      " 0   Age          200 non-null    int64  \n",
      " 1   Sex          200 non-null    object \n",
      " 2   BP           200 non-null    object \n",
      " 3   Cholesterol  200 non-null    object \n",
      " 4   Na_to_K      200 non-null    float64\n",
      " 5   Drug         200 non-null    object \n",
      "dtypes: float64(1), int64(1), object(4)\n",
      "memory usage: 9.5+ KB\n"
     ]
    }
   ],
   "source": [
    "data.info()"
   ]
  },
  {
   "cell_type": "code",
   "execution_count": 6,
   "id": "5df08b89-7c6d-42f6-9734-f38b69572a4f",
   "metadata": {},
   "outputs": [
    {
     "data": {
      "text/plain": [
       "Age            0\n",
       "Sex            0\n",
       "BP             0\n",
       "Cholesterol    0\n",
       "Na_to_K        0\n",
       "Drug           0\n",
       "dtype: int64"
      ]
     },
     "execution_count": 6,
     "metadata": {},
     "output_type": "execute_result"
    }
   ],
   "source": [
    "data.isnull().sum()"
   ]
  },
  {
   "cell_type": "code",
   "execution_count": 7,
   "id": "74a70757-9ed1-4f1b-b6f7-468b9c38042c",
   "metadata": {},
   "outputs": [
    {
     "data": {
      "text/plain": [
       "BP\n",
       "HIGH      77\n",
       "LOW       64\n",
       "NORMAL    59\n",
       "Name: count, dtype: int64"
      ]
     },
     "execution_count": 7,
     "metadata": {},
     "output_type": "execute_result"
    }
   ],
   "source": [
    "data[\"BP\"].value_counts()\n"
   ]
  },
  {
   "cell_type": "code",
   "execution_count": 8,
   "id": "2b10aab9-6c1e-4a53-b890-44ac1ccd1f60",
   "metadata": {},
   "outputs": [
    {
     "data": {
      "text/plain": [
       "Sex\n",
       "M    104\n",
       "F     96\n",
       "Name: count, dtype: int64"
      ]
     },
     "execution_count": 8,
     "metadata": {},
     "output_type": "execute_result"
    }
   ],
   "source": [
    "data[\"Sex\"].value_counts()"
   ]
  },
  {
   "cell_type": "code",
   "execution_count": 9,
   "id": "320a1ac0-08d5-4213-b1da-92c8ac3c6cd8",
   "metadata": {},
   "outputs": [
    {
     "data": {
      "text/plain": [
       "Drug\n",
       "DrugY    91\n",
       "drugX    54\n",
       "drugA    23\n",
       "drugC    16\n",
       "drugB    16\n",
       "Name: count, dtype: int64"
      ]
     },
     "execution_count": 9,
     "metadata": {},
     "output_type": "execute_result"
    }
   ],
   "source": [
    "data[\"Drug\"].value_counts()"
   ]
  },
  {
   "cell_type": "code",
   "execution_count": 10,
   "id": "8b41d200-83da-4564-986e-3e1dddf32199",
   "metadata": {},
   "outputs": [],
   "source": [
    "le = LabelEncoder()\n",
    "data.Sex= le.fit_transform(data.Sex)\n",
    "data.BP = le.fit_transform(data.BP)\n",
    "data.Cholesterol = le.fit_transform(data.Cholesterol)\n",
    "data.Drug = le.fit_transform(data.Drug)"
   ]
  },
  {
   "cell_type": "code",
   "execution_count": 11,
   "id": "17957598-d928-4876-8a0c-78d0e0db723f",
   "metadata": {},
   "outputs": [],
   "source": [
    "#Set features amd target variable \n",
    "x = data.drop(\"Drug\",axis=1).values\n",
    "y= data[\"Drug\"].values"
   ]
  },
  {
   "cell_type": "code",
   "execution_count": 12,
   "id": "3c7145e4-82ec-4551-9898-db8cc40326ff",
   "metadata": {},
   "outputs": [
    {
     "data": {
      "text/plain": [
       "array([0, 3, 3, 4, 0, 4, 0, 3, 0, 0, 3, 0, 0, 0, 4, 0, 4, 1, 3, 0, 0, 0,\n",
       "       0, 0, 0, 0, 0, 4, 0, 0, 4, 2, 4, 0, 4, 4, 1, 4, 4, 4, 0, 2, 0, 4,\n",
       "       4, 4, 1, 3, 0, 0, 0, 4, 0, 0, 2, 3, 2, 0, 4, 0, 0, 1, 0, 4, 2, 0,\n",
       "       1, 4, 0, 0, 2, 0, 4, 0, 0, 0, 1, 0, 1, 4, 2, 4, 3, 1, 3, 2, 4, 0,\n",
       "       0, 0, 0, 0, 0, 0, 0, 4, 0, 0, 0, 0, 1, 1, 3, 4, 0, 4, 4, 0, 2, 0,\n",
       "       1, 4, 4, 4, 4, 0, 4, 4, 1, 0, 0, 0, 0, 0, 2, 0, 0, 4, 0, 4, 0, 0,\n",
       "       4, 0, 0, 4, 2, 1, 2, 4, 1, 0, 2, 0, 1, 4, 4, 1, 4, 3, 1, 2, 4, 4,\n",
       "       0, 3, 1, 0, 3, 4, 4, 2, 4, 0, 0, 0, 0, 4, 0, 1, 4, 4, 0, 0, 1, 0,\n",
       "       1, 0, 0, 0, 0, 4, 4, 0, 0, 0, 2, 1, 0, 0, 0, 1, 0, 3, 0, 3, 3, 4,\n",
       "       4, 4])"
      ]
     },
     "execution_count": 12,
     "metadata": {},
     "output_type": "execute_result"
    }
   ],
   "source": [
    "y"
   ]
  },
  {
   "cell_type": "code",
   "execution_count": 13,
   "id": "8699b762-f9c6-4b15-aa88-354f1074e21d",
   "metadata": {},
   "outputs": [
    {
     "data": {
      "text/plain": [
       "array([[23.   ,  0.   ,  0.   ,  0.   , 25.355],\n",
       "       [47.   ,  1.   ,  1.   ,  0.   , 13.093],\n",
       "       [47.   ,  1.   ,  1.   ,  0.   , 10.114],\n",
       "       [28.   ,  0.   ,  2.   ,  0.   ,  7.798],\n",
       "       [61.   ,  0.   ,  1.   ,  0.   , 18.043],\n",
       "       [22.   ,  0.   ,  2.   ,  0.   ,  8.607],\n",
       "       [49.   ,  0.   ,  2.   ,  0.   , 16.275],\n",
       "       [41.   ,  1.   ,  1.   ,  0.   , 11.037],\n",
       "       [60.   ,  1.   ,  2.   ,  0.   , 15.171],\n",
       "       [43.   ,  1.   ,  1.   ,  1.   , 19.368],\n",
       "       [47.   ,  0.   ,  1.   ,  0.   , 11.767],\n",
       "       [34.   ,  0.   ,  0.   ,  1.   , 19.199],\n",
       "       [43.   ,  1.   ,  1.   ,  0.   , 15.376],\n",
       "       [74.   ,  0.   ,  1.   ,  0.   , 20.942],\n",
       "       [50.   ,  0.   ,  2.   ,  0.   , 12.703],\n",
       "       [16.   ,  0.   ,  0.   ,  1.   , 15.516],\n",
       "       [69.   ,  1.   ,  1.   ,  1.   , 11.455],\n",
       "       [43.   ,  1.   ,  0.   ,  0.   , 13.972],\n",
       "       [23.   ,  1.   ,  1.   ,  0.   ,  7.298],\n",
       "       [32.   ,  0.   ,  0.   ,  1.   , 25.974],\n",
       "       [57.   ,  1.   ,  1.   ,  1.   , 19.128],\n",
       "       [63.   ,  1.   ,  2.   ,  0.   , 25.917],\n",
       "       [47.   ,  1.   ,  1.   ,  1.   , 30.568],\n",
       "       [48.   ,  0.   ,  1.   ,  0.   , 15.036],\n",
       "       [33.   ,  0.   ,  1.   ,  0.   , 33.486],\n",
       "       [28.   ,  0.   ,  0.   ,  1.   , 18.809],\n",
       "       [31.   ,  1.   ,  0.   ,  0.   , 30.366],\n",
       "       [49.   ,  0.   ,  2.   ,  1.   ,  9.381],\n",
       "       [39.   ,  0.   ,  1.   ,  1.   , 22.697],\n",
       "       [45.   ,  1.   ,  1.   ,  0.   , 17.951],\n",
       "       [18.   ,  0.   ,  2.   ,  1.   ,  8.75 ],\n",
       "       [74.   ,  1.   ,  0.   ,  0.   ,  9.567],\n",
       "       [49.   ,  1.   ,  1.   ,  1.   , 11.014],\n",
       "       [65.   ,  0.   ,  0.   ,  1.   , 31.876],\n",
       "       [53.   ,  1.   ,  2.   ,  0.   , 14.133],\n",
       "       [46.   ,  1.   ,  2.   ,  1.   ,  7.285],\n",
       "       [32.   ,  1.   ,  0.   ,  1.   ,  9.445],\n",
       "       [39.   ,  1.   ,  1.   ,  1.   , 13.938],\n",
       "       [39.   ,  0.   ,  2.   ,  1.   ,  9.709],\n",
       "       [15.   ,  1.   ,  2.   ,  0.   ,  9.084],\n",
       "       [73.   ,  0.   ,  2.   ,  0.   , 19.221],\n",
       "       [58.   ,  0.   ,  0.   ,  1.   , 14.239],\n",
       "       [50.   ,  1.   ,  2.   ,  1.   , 15.79 ],\n",
       "       [23.   ,  1.   ,  2.   ,  0.   , 12.26 ],\n",
       "       [50.   ,  0.   ,  2.   ,  1.   , 12.295],\n",
       "       [66.   ,  0.   ,  2.   ,  1.   ,  8.107],\n",
       "       [37.   ,  0.   ,  0.   ,  0.   , 13.091],\n",
       "       [68.   ,  1.   ,  1.   ,  0.   , 10.291],\n",
       "       [23.   ,  1.   ,  2.   ,  0.   , 31.686],\n",
       "       [28.   ,  0.   ,  1.   ,  0.   , 19.796],\n",
       "       [58.   ,  0.   ,  0.   ,  0.   , 19.416],\n",
       "       [67.   ,  1.   ,  2.   ,  1.   , 10.898],\n",
       "       [62.   ,  1.   ,  1.   ,  1.   , 27.183],\n",
       "       [24.   ,  0.   ,  0.   ,  1.   , 18.457],\n",
       "       [68.   ,  0.   ,  0.   ,  1.   , 10.189],\n",
       "       [26.   ,  0.   ,  1.   ,  0.   , 14.16 ],\n",
       "       [65.   ,  1.   ,  0.   ,  1.   , 11.34 ],\n",
       "       [40.   ,  1.   ,  0.   ,  0.   , 27.826],\n",
       "       [60.   ,  1.   ,  2.   ,  1.   , 10.091],\n",
       "       [34.   ,  1.   ,  0.   ,  0.   , 18.703],\n",
       "       [38.   ,  0.   ,  1.   ,  1.   , 29.875],\n",
       "       [24.   ,  1.   ,  0.   ,  1.   ,  9.475],\n",
       "       [67.   ,  1.   ,  1.   ,  1.   , 20.693],\n",
       "       [45.   ,  1.   ,  1.   ,  1.   ,  8.37 ],\n",
       "       [60.   ,  0.   ,  0.   ,  0.   , 13.303],\n",
       "       [68.   ,  0.   ,  2.   ,  1.   , 27.05 ],\n",
       "       [29.   ,  1.   ,  0.   ,  0.   , 12.856],\n",
       "       [17.   ,  1.   ,  2.   ,  1.   , 10.832],\n",
       "       [54.   ,  1.   ,  2.   ,  0.   , 24.658],\n",
       "       [18.   ,  0.   ,  0.   ,  1.   , 24.276],\n",
       "       [70.   ,  1.   ,  0.   ,  0.   , 13.967],\n",
       "       [28.   ,  0.   ,  2.   ,  0.   , 19.675],\n",
       "       [24.   ,  0.   ,  2.   ,  0.   , 10.605],\n",
       "       [41.   ,  0.   ,  2.   ,  1.   , 22.905],\n",
       "       [31.   ,  1.   ,  0.   ,  1.   , 17.069],\n",
       "       [26.   ,  1.   ,  1.   ,  1.   , 20.909],\n",
       "       [36.   ,  0.   ,  0.   ,  0.   , 11.198],\n",
       "       [26.   ,  0.   ,  0.   ,  1.   , 19.161],\n",
       "       [19.   ,  0.   ,  0.   ,  0.   , 13.313],\n",
       "       [32.   ,  0.   ,  1.   ,  1.   , 10.84 ],\n",
       "       [60.   ,  1.   ,  0.   ,  0.   , 13.934],\n",
       "       [64.   ,  1.   ,  2.   ,  0.   ,  7.761],\n",
       "       [32.   ,  0.   ,  1.   ,  0.   ,  9.712],\n",
       "       [38.   ,  0.   ,  0.   ,  1.   , 11.326],\n",
       "       [47.   ,  0.   ,  1.   ,  0.   , 10.067],\n",
       "       [59.   ,  1.   ,  0.   ,  0.   , 13.935],\n",
       "       [51.   ,  0.   ,  2.   ,  0.   , 13.597],\n",
       "       [69.   ,  1.   ,  1.   ,  0.   , 15.478],\n",
       "       [37.   ,  0.   ,  0.   ,  1.   , 23.091],\n",
       "       [50.   ,  0.   ,  2.   ,  1.   , 17.211],\n",
       "       [62.   ,  1.   ,  2.   ,  0.   , 16.594],\n",
       "       [41.   ,  1.   ,  0.   ,  1.   , 15.156],\n",
       "       [29.   ,  0.   ,  0.   ,  0.   , 29.45 ],\n",
       "       [42.   ,  0.   ,  1.   ,  1.   , 29.271],\n",
       "       [56.   ,  1.   ,  1.   ,  0.   , 15.015],\n",
       "       [36.   ,  1.   ,  1.   ,  1.   , 11.424],\n",
       "       [58.   ,  0.   ,  1.   ,  0.   , 38.247],\n",
       "       [56.   ,  0.   ,  0.   ,  0.   , 25.395],\n",
       "       [20.   ,  1.   ,  0.   ,  1.   , 35.639],\n",
       "       [15.   ,  0.   ,  0.   ,  1.   , 16.725],\n",
       "       [31.   ,  1.   ,  0.   ,  1.   , 11.871],\n",
       "       [45.   ,  0.   ,  0.   ,  0.   , 12.854],\n",
       "       [28.   ,  0.   ,  1.   ,  0.   , 13.127],\n",
       "       [56.   ,  1.   ,  2.   ,  0.   ,  8.966],\n",
       "       [22.   ,  1.   ,  0.   ,  1.   , 28.294],\n",
       "       [37.   ,  1.   ,  1.   ,  1.   ,  8.968],\n",
       "       [22.   ,  1.   ,  2.   ,  0.   , 11.953],\n",
       "       [42.   ,  1.   ,  1.   ,  0.   , 20.013],\n",
       "       [72.   ,  1.   ,  0.   ,  1.   ,  9.677],\n",
       "       [23.   ,  1.   ,  2.   ,  0.   , 16.85 ],\n",
       "       [50.   ,  1.   ,  0.   ,  0.   ,  7.49 ],\n",
       "       [47.   ,  0.   ,  2.   ,  1.   ,  6.683],\n",
       "       [35.   ,  1.   ,  1.   ,  1.   ,  9.17 ],\n",
       "       [65.   ,  0.   ,  1.   ,  1.   , 13.769],\n",
       "       [20.   ,  0.   ,  2.   ,  1.   ,  9.281],\n",
       "       [51.   ,  1.   ,  0.   ,  0.   , 18.295],\n",
       "       [67.   ,  1.   ,  2.   ,  1.   ,  9.514],\n",
       "       [40.   ,  0.   ,  2.   ,  0.   , 10.103],\n",
       "       [32.   ,  0.   ,  0.   ,  1.   , 10.292],\n",
       "       [61.   ,  0.   ,  0.   ,  0.   , 25.475],\n",
       "       [28.   ,  1.   ,  2.   ,  0.   , 27.064],\n",
       "       [15.   ,  1.   ,  0.   ,  1.   , 17.206],\n",
       "       [34.   ,  1.   ,  2.   ,  0.   , 22.456],\n",
       "       [36.   ,  0.   ,  2.   ,  0.   , 16.753],\n",
       "       [53.   ,  0.   ,  0.   ,  1.   , 12.495],\n",
       "       [19.   ,  0.   ,  0.   ,  1.   , 25.969],\n",
       "       [66.   ,  1.   ,  0.   ,  0.   , 16.347],\n",
       "       [35.   ,  1.   ,  2.   ,  1.   ,  7.845],\n",
       "       [47.   ,  1.   ,  1.   ,  1.   , 33.542],\n",
       "       [32.   ,  0.   ,  2.   ,  0.   ,  7.477],\n",
       "       [70.   ,  0.   ,  2.   ,  0.   , 20.489],\n",
       "       [52.   ,  1.   ,  1.   ,  1.   , 32.922],\n",
       "       [49.   ,  1.   ,  1.   ,  1.   , 13.598],\n",
       "       [24.   ,  1.   ,  2.   ,  0.   , 25.786],\n",
       "       [42.   ,  0.   ,  0.   ,  0.   , 21.036],\n",
       "       [74.   ,  1.   ,  1.   ,  1.   , 11.939],\n",
       "       [55.   ,  0.   ,  0.   ,  0.   , 10.977],\n",
       "       [35.   ,  0.   ,  0.   ,  0.   , 12.894],\n",
       "       [51.   ,  1.   ,  0.   ,  1.   , 11.343],\n",
       "       [69.   ,  0.   ,  2.   ,  0.   , 10.065],\n",
       "       [49.   ,  1.   ,  0.   ,  1.   ,  6.269],\n",
       "       [64.   ,  0.   ,  1.   ,  1.   , 25.741],\n",
       "       [60.   ,  1.   ,  0.   ,  1.   ,  8.621],\n",
       "       [74.   ,  1.   ,  0.   ,  1.   , 15.436],\n",
       "       [39.   ,  1.   ,  0.   ,  0.   ,  9.664],\n",
       "       [61.   ,  1.   ,  2.   ,  0.   ,  9.443],\n",
       "       [37.   ,  0.   ,  1.   ,  1.   , 12.006],\n",
       "       [26.   ,  0.   ,  0.   ,  1.   , 12.307],\n",
       "       [61.   ,  0.   ,  1.   ,  1.   ,  7.34 ],\n",
       "       [22.   ,  1.   ,  1.   ,  0.   ,  8.151],\n",
       "       [49.   ,  1.   ,  0.   ,  1.   ,  8.7  ],\n",
       "       [68.   ,  1.   ,  0.   ,  0.   , 11.009],\n",
       "       [55.   ,  1.   ,  2.   ,  1.   ,  7.261],\n",
       "       [72.   ,  0.   ,  1.   ,  1.   , 14.642],\n",
       "       [37.   ,  1.   ,  1.   ,  1.   , 16.724],\n",
       "       [49.   ,  1.   ,  1.   ,  0.   , 10.537],\n",
       "       [31.   ,  1.   ,  0.   ,  1.   , 11.227],\n",
       "       [53.   ,  1.   ,  1.   ,  0.   , 22.963],\n",
       "       [59.   ,  0.   ,  1.   ,  0.   , 10.444],\n",
       "       [34.   ,  0.   ,  1.   ,  1.   , 12.923],\n",
       "       [30.   ,  0.   ,  2.   ,  0.   , 10.443],\n",
       "       [57.   ,  0.   ,  0.   ,  1.   ,  9.945],\n",
       "       [43.   ,  1.   ,  2.   ,  1.   , 12.859],\n",
       "       [21.   ,  0.   ,  0.   ,  1.   , 28.632],\n",
       "       [16.   ,  1.   ,  0.   ,  1.   , 19.007],\n",
       "       [38.   ,  1.   ,  1.   ,  0.   , 18.295],\n",
       "       [58.   ,  0.   ,  1.   ,  0.   , 26.645],\n",
       "       [57.   ,  0.   ,  2.   ,  0.   , 14.216],\n",
       "       [51.   ,  0.   ,  1.   ,  1.   , 23.003],\n",
       "       [20.   ,  0.   ,  0.   ,  0.   , 11.262],\n",
       "       [28.   ,  0.   ,  2.   ,  0.   , 12.879],\n",
       "       [45.   ,  1.   ,  1.   ,  1.   , 10.017],\n",
       "       [39.   ,  0.   ,  2.   ,  1.   , 17.225],\n",
       "       [41.   ,  0.   ,  1.   ,  1.   , 18.739],\n",
       "       [42.   ,  1.   ,  0.   ,  1.   , 12.766],\n",
       "       [73.   ,  0.   ,  0.   ,  0.   , 18.348],\n",
       "       [48.   ,  1.   ,  0.   ,  1.   , 10.446],\n",
       "       [25.   ,  1.   ,  2.   ,  0.   , 19.011],\n",
       "       [39.   ,  1.   ,  2.   ,  0.   , 15.969],\n",
       "       [67.   ,  0.   ,  2.   ,  0.   , 15.891],\n",
       "       [22.   ,  0.   ,  0.   ,  1.   , 22.818],\n",
       "       [59.   ,  0.   ,  2.   ,  0.   , 13.884],\n",
       "       [20.   ,  0.   ,  1.   ,  1.   , 11.686],\n",
       "       [36.   ,  0.   ,  0.   ,  1.   , 15.49 ],\n",
       "       [18.   ,  0.   ,  0.   ,  0.   , 37.188],\n",
       "       [57.   ,  0.   ,  2.   ,  1.   , 25.893],\n",
       "       [70.   ,  1.   ,  0.   ,  0.   ,  9.849],\n",
       "       [47.   ,  1.   ,  0.   ,  0.   , 10.403],\n",
       "       [65.   ,  1.   ,  0.   ,  1.   , 34.997],\n",
       "       [64.   ,  1.   ,  0.   ,  1.   , 20.932],\n",
       "       [58.   ,  1.   ,  0.   ,  0.   , 18.991],\n",
       "       [23.   ,  1.   ,  0.   ,  0.   ,  8.011],\n",
       "       [72.   ,  1.   ,  1.   ,  0.   , 16.31 ],\n",
       "       [72.   ,  1.   ,  1.   ,  0.   ,  6.769],\n",
       "       [46.   ,  0.   ,  0.   ,  0.   , 34.686],\n",
       "       [56.   ,  0.   ,  1.   ,  0.   , 11.567],\n",
       "       [16.   ,  1.   ,  1.   ,  0.   , 12.006],\n",
       "       [52.   ,  1.   ,  2.   ,  0.   ,  9.894],\n",
       "       [23.   ,  1.   ,  2.   ,  1.   , 14.02 ],\n",
       "       [40.   ,  0.   ,  1.   ,  1.   , 11.349]])"
      ]
     },
     "execution_count": 13,
     "metadata": {},
     "output_type": "execute_result"
    }
   ],
   "source": [
    "x"
   ]
  },
  {
   "cell_type": "code",
   "execution_count": 14,
   "id": "586f3a30-b57d-4953-a8f1-cd6f10a491c3",
   "metadata": {},
   "outputs": [],
   "source": [
    "#Feature scaling \n",
    "ss = StandardScaler()\n",
    "x = ss.fit_transform(x)"
   ]
  },
  {
   "cell_type": "code",
   "execution_count": 15,
   "id": "5010914f-5bef-41e4-9a43-84b58788c4b6",
   "metadata": {},
   "outputs": [],
   "source": [
    "#Spliting the data into training and testing\n",
    "from sklearn.model_selection import train_test_split\n",
    "from tensorflow import keras "
   ]
  },
  {
   "cell_type": "code",
   "execution_count": 16,
   "id": "055b9673-b645-407d-a168-f54de43c6e85",
   "metadata": {},
   "outputs": [],
   "source": [
    "x_train,x_test, y_train, y_test = train_test_split(x,y, test_size = 0.2, random_state = 42)"
   ]
  },
  {
   "cell_type": "code",
   "execution_count": 17,
   "id": "09159729-1878-4310-8061-696077c6cbdc",
   "metadata": {},
   "outputs": [],
   "source": [
    "#converting features into float for model building \n",
    "Y_train = keras.utils.to_categorical(y_train)\n",
    "Y_test = keras.utils.to_categorical(y_test)"
   ]
  },
  {
   "cell_type": "code",
   "execution_count": 18,
   "id": "92d64af1-5380-43a4-bc82-0e531e624561",
   "metadata": {},
   "outputs": [],
   "source": [
    "#model building \n",
    "import tensorflow \n",
    "from tensorflow import keras \n",
    "from tensorflow.keras import Sequential\n",
    "from tensorflow.keras.layers import Dense"
   ]
  },
  {
   "cell_type": "code",
   "execution_count": 25,
   "id": "a3895728-a380-42fa-ae70-f490bb002634",
   "metadata": {},
   "outputs": [],
   "source": [
    "model = Sequential()\n",
    "model.add(Dense(12, input_dim = 5,activation = 'relu'))\n",
    "model.add(Dense(24, activation = 'relu'))\n",
    "model.add(Dense(36, activation = 'relu'))\n",
    "model.add(Dense(5, activation = \"softmax\"))\n"
   ]
  },
  {
   "cell_type": "code",
   "execution_count": 26,
   "id": "38945358-e092-4dbc-b9c7-e60b48443e89",
   "metadata": {},
   "outputs": [
    {
     "data": {
      "text/html": [
       "<pre style=\"white-space:pre;overflow-x:auto;line-height:normal;font-family:Menlo,'DejaVu Sans Mono',consolas,'Courier New',monospace\"><span style=\"font-weight: bold\">Model: \"sequential_1\"</span>\n",
       "</pre>\n"
      ],
      "text/plain": [
       "\u001b[1mModel: \"sequential_1\"\u001b[0m\n"
      ]
     },
     "metadata": {},
     "output_type": "display_data"
    },
    {
     "data": {
      "text/html": [
       "<pre style=\"white-space:pre;overflow-x:auto;line-height:normal;font-family:Menlo,'DejaVu Sans Mono',consolas,'Courier New',monospace\">┏━━━━━━━━━━━━━━━━━━━━━━━━━━━━━━━━━━━━━━┳━━━━━━━━━━━━━━━━━━━━━━━━━━━━━┳━━━━━━━━━━━━━━━━━┓\n",
       "┃<span style=\"font-weight: bold\"> Layer (type)                         </span>┃<span style=\"font-weight: bold\"> Output Shape                </span>┃<span style=\"font-weight: bold\">         Param # </span>┃\n",
       "┡━━━━━━━━━━━━━━━━━━━━━━━━━━━━━━━━━━━━━━╇━━━━━━━━━━━━━━━━━━━━━━━━━━━━━╇━━━━━━━━━━━━━━━━━┩\n",
       "│ dense_4 (<span style=\"color: #0087ff; text-decoration-color: #0087ff\">Dense</span>)                      │ (<span style=\"color: #00d7ff; text-decoration-color: #00d7ff\">None</span>, <span style=\"color: #00af00; text-decoration-color: #00af00\">12</span>)                  │              <span style=\"color: #00af00; text-decoration-color: #00af00\">72</span> │\n",
       "├──────────────────────────────────────┼─────────────────────────────┼─────────────────┤\n",
       "│ dense_5 (<span style=\"color: #0087ff; text-decoration-color: #0087ff\">Dense</span>)                      │ (<span style=\"color: #00d7ff; text-decoration-color: #00d7ff\">None</span>, <span style=\"color: #00af00; text-decoration-color: #00af00\">24</span>)                  │             <span style=\"color: #00af00; text-decoration-color: #00af00\">312</span> │\n",
       "├──────────────────────────────────────┼─────────────────────────────┼─────────────────┤\n",
       "│ dense_6 (<span style=\"color: #0087ff; text-decoration-color: #0087ff\">Dense</span>)                      │ (<span style=\"color: #00d7ff; text-decoration-color: #00d7ff\">None</span>, <span style=\"color: #00af00; text-decoration-color: #00af00\">36</span>)                  │             <span style=\"color: #00af00; text-decoration-color: #00af00\">900</span> │\n",
       "├──────────────────────────────────────┼─────────────────────────────┼─────────────────┤\n",
       "│ dense_7 (<span style=\"color: #0087ff; text-decoration-color: #0087ff\">Dense</span>)                      │ (<span style=\"color: #00d7ff; text-decoration-color: #00d7ff\">None</span>, <span style=\"color: #00af00; text-decoration-color: #00af00\">5</span>)                   │             <span style=\"color: #00af00; text-decoration-color: #00af00\">185</span> │\n",
       "└──────────────────────────────────────┴─────────────────────────────┴─────────────────┘\n",
       "</pre>\n"
      ],
      "text/plain": [
       "┏━━━━━━━━━━━━━━━━━━━━━━━━━━━━━━━━━━━━━━┳━━━━━━━━━━━━━━━━━━━━━━━━━━━━━┳━━━━━━━━━━━━━━━━━┓\n",
       "┃\u001b[1m \u001b[0m\u001b[1mLayer (type)                        \u001b[0m\u001b[1m \u001b[0m┃\u001b[1m \u001b[0m\u001b[1mOutput Shape               \u001b[0m\u001b[1m \u001b[0m┃\u001b[1m \u001b[0m\u001b[1m        Param #\u001b[0m\u001b[1m \u001b[0m┃\n",
       "┡━━━━━━━━━━━━━━━━━━━━━━━━━━━━━━━━━━━━━━╇━━━━━━━━━━━━━━━━━━━━━━━━━━━━━╇━━━━━━━━━━━━━━━━━┩\n",
       "│ dense_4 (\u001b[38;5;33mDense\u001b[0m)                      │ (\u001b[38;5;45mNone\u001b[0m, \u001b[38;5;34m12\u001b[0m)                  │              \u001b[38;5;34m72\u001b[0m │\n",
       "├──────────────────────────────────────┼─────────────────────────────┼─────────────────┤\n",
       "│ dense_5 (\u001b[38;5;33mDense\u001b[0m)                      │ (\u001b[38;5;45mNone\u001b[0m, \u001b[38;5;34m24\u001b[0m)                  │             \u001b[38;5;34m312\u001b[0m │\n",
       "├──────────────────────────────────────┼─────────────────────────────┼─────────────────┤\n",
       "│ dense_6 (\u001b[38;5;33mDense\u001b[0m)                      │ (\u001b[38;5;45mNone\u001b[0m, \u001b[38;5;34m36\u001b[0m)                  │             \u001b[38;5;34m900\u001b[0m │\n",
       "├──────────────────────────────────────┼─────────────────────────────┼─────────────────┤\n",
       "│ dense_7 (\u001b[38;5;33mDense\u001b[0m)                      │ (\u001b[38;5;45mNone\u001b[0m, \u001b[38;5;34m5\u001b[0m)                   │             \u001b[38;5;34m185\u001b[0m │\n",
       "└──────────────────────────────────────┴─────────────────────────────┴─────────────────┘\n"
      ]
     },
     "metadata": {},
     "output_type": "display_data"
    },
    {
     "data": {
      "text/html": [
       "<pre style=\"white-space:pre;overflow-x:auto;line-height:normal;font-family:Menlo,'DejaVu Sans Mono',consolas,'Courier New',monospace\"><span style=\"font-weight: bold\"> Total params: </span><span style=\"color: #00af00; text-decoration-color: #00af00\">1,469</span> (5.74 KB)\n",
       "</pre>\n"
      ],
      "text/plain": [
       "\u001b[1m Total params: \u001b[0m\u001b[38;5;34m1,469\u001b[0m (5.74 KB)\n"
      ]
     },
     "metadata": {},
     "output_type": "display_data"
    },
    {
     "data": {
      "text/html": [
       "<pre style=\"white-space:pre;overflow-x:auto;line-height:normal;font-family:Menlo,'DejaVu Sans Mono',consolas,'Courier New',monospace\"><span style=\"font-weight: bold\"> Trainable params: </span><span style=\"color: #00af00; text-decoration-color: #00af00\">1,469</span> (5.74 KB)\n",
       "</pre>\n"
      ],
      "text/plain": [
       "\u001b[1m Trainable params: \u001b[0m\u001b[38;5;34m1,469\u001b[0m (5.74 KB)\n"
      ]
     },
     "metadata": {},
     "output_type": "display_data"
    },
    {
     "data": {
      "text/html": [
       "<pre style=\"white-space:pre;overflow-x:auto;line-height:normal;font-family:Menlo,'DejaVu Sans Mono',consolas,'Courier New',monospace\"><span style=\"font-weight: bold\"> Non-trainable params: </span><span style=\"color: #00af00; text-decoration-color: #00af00\">0</span> (0.00 B)\n",
       "</pre>\n"
      ],
      "text/plain": [
       "\u001b[1m Non-trainable params: \u001b[0m\u001b[38;5;34m0\u001b[0m (0.00 B)\n"
      ]
     },
     "metadata": {},
     "output_type": "display_data"
    }
   ],
   "source": [
    "model.summary()"
   ]
  },
  {
   "cell_type": "code",
   "execution_count": 27,
   "id": "00e507ae-75b5-41ad-9831-9b32ae976cd1",
   "metadata": {},
   "outputs": [],
   "source": [
    "#compile the model \n",
    "model.compile(loss = \"categorical_crossentropy\",optimizer = 'adam', metrics = [\"accuracy\"])"
   ]
  },
  {
   "cell_type": "code",
   "execution_count": 28,
   "id": "01cf938c-3b91-427b-93f1-e64b34072848",
   "metadata": {},
   "outputs": [
    {
     "name": "stdout",
     "output_type": "stream",
     "text": [
      "Epoch 1/20\n",
      "\u001b[1m16/16\u001b[0m \u001b[32m━━━━━━━━━━━━━━━━━━━━\u001b[0m\u001b[37m\u001b[0m \u001b[1m3s\u001b[0m 4ms/step - accuracy: 0.2383 - loss: 1.6320\n",
      "Epoch 2/20\n",
      "\u001b[1m16/16\u001b[0m \u001b[32m━━━━━━━━━━━━━━━━━━━━\u001b[0m\u001b[37m\u001b[0m \u001b[1m0s\u001b[0m 3ms/step - accuracy: 0.5173 - loss: 1.4803 \n",
      "Epoch 3/20\n",
      "\u001b[1m16/16\u001b[0m \u001b[32m━━━━━━━━━━━━━━━━━━━━\u001b[0m\u001b[37m\u001b[0m \u001b[1m0s\u001b[0m 3ms/step - accuracy: 0.6630 - loss: 1.3454 \n",
      "Epoch 4/20\n",
      "\u001b[1m16/16\u001b[0m \u001b[32m━━━━━━━━━━━━━━━━━━━━\u001b[0m\u001b[37m\u001b[0m \u001b[1m0s\u001b[0m 3ms/step - accuracy: 0.6076 - loss: 1.2349 \n",
      "Epoch 5/20\n",
      "\u001b[1m16/16\u001b[0m \u001b[32m━━━━━━━━━━━━━━━━━━━━\u001b[0m\u001b[37m\u001b[0m \u001b[1m0s\u001b[0m 3ms/step - accuracy: 0.6640 - loss: 1.1231 \n",
      "Epoch 6/20\n",
      "\u001b[1m16/16\u001b[0m \u001b[32m━━━━━━━━━━━━━━━━━━━━\u001b[0m\u001b[37m\u001b[0m \u001b[1m0s\u001b[0m 2ms/step - accuracy: 0.6430 - loss: 1.0740 \n",
      "Epoch 7/20\n",
      "\u001b[1m16/16\u001b[0m \u001b[32m━━━━━━━━━━━━━━━━━━━━\u001b[0m\u001b[37m\u001b[0m \u001b[1m0s\u001b[0m 2ms/step - accuracy: 0.6822 - loss: 0.9642 \n",
      "Epoch 8/20\n",
      "\u001b[1m16/16\u001b[0m \u001b[32m━━━━━━━━━━━━━━━━━━━━\u001b[0m\u001b[37m\u001b[0m \u001b[1m0s\u001b[0m 3ms/step - accuracy: 0.7141 - loss: 0.8204 \n",
      "Epoch 9/20\n",
      "\u001b[1m16/16\u001b[0m \u001b[32m━━━━━━━━━━━━━━━━━━━━\u001b[0m\u001b[37m\u001b[0m \u001b[1m0s\u001b[0m 2ms/step - accuracy: 0.6889 - loss: 0.8118 \n",
      "Epoch 10/20\n",
      "\u001b[1m16/16\u001b[0m \u001b[32m━━━━━━━━━━━━━━━━━━━━\u001b[0m\u001b[37m\u001b[0m \u001b[1m0s\u001b[0m 3ms/step - accuracy: 0.6964 - loss: 0.7469 \n",
      "Epoch 11/20\n",
      "\u001b[1m16/16\u001b[0m \u001b[32m━━━━━━━━━━━━━━━━━━━━\u001b[0m\u001b[37m\u001b[0m \u001b[1m0s\u001b[0m 2ms/step - accuracy: 0.7167 - loss: 0.6979 \n",
      "Epoch 12/20\n",
      "\u001b[1m16/16\u001b[0m \u001b[32m━━━━━━━━━━━━━━━━━━━━\u001b[0m\u001b[37m\u001b[0m \u001b[1m0s\u001b[0m 3ms/step - accuracy: 0.6647 - loss: 0.6977 \n",
      "Epoch 13/20\n",
      "\u001b[1m16/16\u001b[0m \u001b[32m━━━━━━━━━━━━━━━━━━━━\u001b[0m\u001b[37m\u001b[0m \u001b[1m0s\u001b[0m 2ms/step - accuracy: 0.7709 - loss: 0.5705 \n",
      "Epoch 14/20\n",
      "\u001b[1m16/16\u001b[0m \u001b[32m━━━━━━━━━━━━━━━━━━━━\u001b[0m\u001b[37m\u001b[0m \u001b[1m0s\u001b[0m 2ms/step - accuracy: 0.7773 - loss: 0.5461 \n",
      "Epoch 15/20\n",
      "\u001b[1m16/16\u001b[0m \u001b[32m━━━━━━━━━━━━━━━━━━━━\u001b[0m\u001b[37m\u001b[0m \u001b[1m0s\u001b[0m 3ms/step - accuracy: 0.7852 - loss: 0.5034 \n",
      "Epoch 16/20\n",
      "\u001b[1m16/16\u001b[0m \u001b[32m━━━━━━━━━━━━━━━━━━━━\u001b[0m\u001b[37m\u001b[0m \u001b[1m0s\u001b[0m 2ms/step - accuracy: 0.7491 - loss: 0.5401 \n",
      "Epoch 17/20\n",
      "\u001b[1m16/16\u001b[0m \u001b[32m━━━━━━━━━━━━━━━━━━━━\u001b[0m\u001b[37m\u001b[0m \u001b[1m0s\u001b[0m 3ms/step - accuracy: 0.8193 - loss: 0.4799 \n",
      "Epoch 18/20\n",
      "\u001b[1m16/16\u001b[0m \u001b[32m━━━━━━━━━━━━━━━━━━━━\u001b[0m\u001b[37m\u001b[0m \u001b[1m0s\u001b[0m 3ms/step - accuracy: 0.8619 - loss: 0.3937 \n",
      "Epoch 19/20\n",
      "\u001b[1m16/16\u001b[0m \u001b[32m━━━━━━━━━━━━━━━━━━━━\u001b[0m\u001b[37m\u001b[0m \u001b[1m0s\u001b[0m 3ms/step - accuracy: 0.8983 - loss: 0.3748 \n",
      "Epoch 20/20\n",
      "\u001b[1m16/16\u001b[0m \u001b[32m━━━━━━━━━━━━━━━━━━━━\u001b[0m\u001b[37m\u001b[0m \u001b[1m0s\u001b[0m 3ms/step - accuracy: 0.8797 - loss: 0.4232 \n"
     ]
    },
    {
     "data": {
      "text/plain": [
       "<keras.src.callbacks.history.History at 0x226f460b1d0>"
      ]
     },
     "execution_count": 28,
     "metadata": {},
     "output_type": "execute_result"
    }
   ],
   "source": [
    "#Train the model \n",
    "model.fit(x_train,Y_train, batch_size=10, epochs=20)"
   ]
  },
  {
   "cell_type": "code",
   "execution_count": 29,
   "id": "1a8ebbf7-f584-467e-87ee-972244023a8d",
   "metadata": {},
   "outputs": [
    {
     "name": "stdout",
     "output_type": "stream",
     "text": [
      "\u001b[1m2/2\u001b[0m \u001b[32m━━━━━━━━━━━━━━━━━━━━\u001b[0m\u001b[37m\u001b[0m \u001b[1m0s\u001b[0m 10ms/step - accuracy: 0.9125 - loss: 0.4426 \n",
      "Accuracy is: 89.99999761581421\n"
     ]
    }
   ],
   "source": [
    "#test the accuracy \n",
    "loss, accuracy = model.evaluate(x_test, Y_test)\n",
    "print(\"Accuracy is:\", accuracy*100)"
   ]
  },
  {
   "cell_type": "code",
   "execution_count": 30,
   "id": "e33ad05e-8b00-444e-814c-79febf8cbf46",
   "metadata": {},
   "outputs": [
    {
     "name": "stdout",
     "output_type": "stream",
     "text": [
      "\u001b[1m2/2\u001b[0m \u001b[32m━━━━━━━━━━━━━━━━━━━━\u001b[0m\u001b[37m\u001b[0m \u001b[1m0s\u001b[0m 93ms/step\n"
     ]
    },
    {
     "data": {
      "text/plain": [
       "array([[6.36839569e-02, 2.45045442e-02, 6.04516454e-03, 9.22996774e-02,\n",
       "        8.13466668e-01],\n",
       "       [7.33362794e-01, 1.20065607e-01, 6.49123043e-02, 6.05498292e-02,\n",
       "        2.11094245e-02],\n",
       "       [4.07657499e-04, 8.06862590e-05, 4.52919949e-06, 7.40210060e-03,\n",
       "        9.92105007e-01],\n",
       "       [4.43433486e-02, 2.44655177e-01, 7.48684034e-02, 3.66993845e-01,\n",
       "        2.69139290e-01],\n",
       "       [9.99968529e-01, 7.19644277e-06, 1.15431876e-05, 5.64680795e-06,\n",
       "        7.04482409e-06],\n",
       "       [6.19083643e-01, 1.09904476e-01, 2.36965373e-01, 3.09179872e-02,\n",
       "        3.12857912e-03],\n",
       "       [9.93315756e-01, 2.15229089e-03, 3.17726564e-03, 1.03923166e-03,\n",
       "        3.15419893e-04],\n",
       "       [3.12698409e-02, 1.10277045e-03, 1.45717029e-04, 6.29301295e-02,\n",
       "        9.04551625e-01],\n",
       "       [2.57052839e-01, 2.56962448e-01, 3.62734735e-01, 8.31901655e-02,\n",
       "        4.00597341e-02],\n",
       "       [1.21482287e-03, 2.11623585e-04, 1.37088091e-05, 5.07909525e-03,\n",
       "        9.93480682e-01],\n",
       "       [1.22348629e-01, 3.71912271e-01, 2.99888313e-01, 1.79308847e-01,\n",
       "        2.65418738e-02],\n",
       "       [1.58459954e-02, 5.88607835e-03, 9.06227797e-04, 5.22649288e-02,\n",
       "        9.25096631e-01],\n",
       "       [9.58193004e-01, 6.69532781e-03, 5.06127160e-03, 2.13297941e-02,\n",
       "        8.72069784e-03],\n",
       "       [1.36608407e-01, 4.75835472e-01, 1.91213742e-01, 1.71746179e-01,\n",
       "        2.45962702e-02],\n",
       "       [8.29572976e-02, 2.83348888e-01, 5.71851790e-01, 5.76586276e-02,\n",
       "        4.18338971e-03],\n",
       "       [9.93948460e-01, 1.20570367e-04, 5.46733900e-05, 1.22739351e-03,\n",
       "        4.64896206e-03],\n",
       "       [1.80460721e-01, 2.25091726e-01, 5.43647230e-01, 4.11114804e-02,\n",
       "        9.68886074e-03],\n",
       "       [6.57608791e-04, 9.75050716e-05, 3.50091386e-06, 1.21896751e-02,\n",
       "        9.87051725e-01],\n",
       "       [2.70517580e-02, 9.76523161e-02, 2.08823830e-02, 3.54189515e-01,\n",
       "        5.00224054e-01],\n",
       "       [9.99988079e-01, 1.08724294e-06, 9.35377102e-07, 2.58440377e-06,\n",
       "        7.23570656e-06],\n",
       "       [2.95000643e-01, 2.31997520e-01, 3.86127621e-01, 4.06826362e-02,\n",
       "        4.61915471e-02],\n",
       "       [4.83622886e-02, 7.44985417e-02, 2.19522174e-02, 2.94008464e-01,\n",
       "        5.61178505e-01],\n",
       "       [1.45460302e-02, 1.33218551e-02, 3.32400831e-03, 5.51785380e-02,\n",
       "        9.13629591e-01],\n",
       "       [9.99983430e-01, 3.40945166e-06, 8.05547370e-06, 2.40276177e-06,\n",
       "        2.57788565e-06],\n",
       "       [9.99997020e-01, 4.17269149e-07, 7.13314023e-07, 3.15218045e-07,\n",
       "        1.53072847e-06],\n",
       "       [9.99987960e-01, 2.50635435e-06, 5.74681098e-06, 1.84856674e-06,\n",
       "        1.87206490e-06],\n",
       "       [3.61357816e-02, 1.77728742e-01, 4.50712182e-02, 3.79856646e-01,\n",
       "        3.61207664e-01],\n",
       "       [1.55751256e-03, 1.81767071e-04, 1.06542275e-05, 8.06662533e-03,\n",
       "        9.90183413e-01],\n",
       "       [9.97952819e-01, 6.06243033e-04, 1.04013900e-03, 3.09392752e-04,\n",
       "        9.13944241e-05],\n",
       "       [1.42259121e-01, 5.55178039e-02, 1.89580563e-02, 1.49426177e-01,\n",
       "        6.33838892e-01],\n",
       "       [9.30830300e-01, 1.63470916e-02, 1.57094151e-02, 1.36636263e-02,\n",
       "        2.34496593e-02],\n",
       "       [1.68791674e-02, 2.82797180e-02, 5.25703095e-03, 4.86439139e-01,\n",
       "        4.63144869e-01],\n",
       "       [3.10812593e-01, 1.66896358e-01, 5.48973419e-02, 2.98675835e-01,\n",
       "        1.68717861e-01],\n",
       "       [9.67960596e-01, 8.92616156e-03, 8.92747659e-03, 6.17604656e-03,\n",
       "        8.00963584e-03],\n",
       "       [1.14058301e-01, 3.45069885e-01, 4.02892560e-01, 1.03662051e-01,\n",
       "        3.43171544e-02],\n",
       "       [9.87657666e-01, 3.76178650e-03, 4.10305848e-03, 3.26924887e-03,\n",
       "        1.20824971e-03],\n",
       "       [8.42846408e-02, 1.04249597e-01, 3.95650752e-02, 2.91301608e-01,\n",
       "        4.80599016e-01],\n",
       "       [1.36626884e-01, 4.55760390e-01, 2.66835064e-01, 1.22372493e-01,\n",
       "        1.84051897e-02],\n",
       "       [6.93147123e-01, 1.07683659e-01, 1.02364831e-01, 5.91592602e-02,\n",
       "        3.76451612e-02],\n",
       "       [8.98626968e-02, 4.87939328e-01, 2.77890891e-01, 1.25519678e-01,\n",
       "        1.87874660e-02]], dtype=float32)"
      ]
     },
     "execution_count": 30,
     "metadata": {},
     "output_type": "execute_result"
    }
   ],
   "source": [
    "y_pred = model.predict(x_test)\n",
    "y_pred"
   ]
  },
  {
   "cell_type": "code",
   "execution_count": 34,
   "id": "f3f99d86-c2c2-40ec-b5cf-8ae740aed28b",
   "metadata": {},
   "outputs": [
    {
     "name": "stdout",
     "output_type": "stream",
     "text": [
      "\u001b[1m1/1\u001b[0m \u001b[32m━━━━━━━━━━━━━━━━━━━━\u001b[0m\u001b[37m\u001b[0m \u001b[1m0s\u001b[0m 48ms/step\n",
      "Random Input data:\n",
      "[[0.33829271 0.41066331 0.0847481  0.14666503 0.95365803]\n",
      " [0.70366658 0.54317371 0.45684483 0.98263701 0.07577221]\n",
      " [0.2997088  0.14188409 0.19671189 0.21136269 0.18902016]\n",
      " [0.51568926 0.27260926 0.35386008 0.2375773  0.90658078]\n",
      " [0.11476101 0.11859571 0.88480963 0.37098764 0.01995456]]\n",
      "\n",
      "Predicted Drugs:\n",
      "['DrugX', 'DrugY', 'DrugY', 'DrugY', 'DrugY']\n"
     ]
    }
   ],
   "source": [
    "#generating random input data \n",
    "num_sample = 5\n",
    "#generating random data of the same shapes as input features \n",
    "random_input = np.random.rand(num_sample, x_train.shape[1])\n",
    "#scaling the random input data \n",
    "random_input_scaled= ss.transform(random_input)\n",
    "#predicting using the trained model \n",
    "prediction = model.predict(random_input_scaled)\n",
    "#decode one-hot encoded predictions to get the predicted drug \n",
    "predicted_drug = [np.argmax(pred) for pred in prediction] \n",
    "#mapping predicted drug index to actual drug name \n",
    "drug_mapping = {0:\"DrugA\",1:\"DrugB\", 2:\"DrugC\", 3:\"DrugX\", 4:\"DrugY\"}\n",
    "predicted_drugs_names = [drug_mapping[pred] for pred in predicted_drug]\n",
    "#displaying the random input and predicted drugs \n",
    "print(\"Random Input data:\")\n",
    "print(random_input)\n",
    "print(\"\\nPredicted Drugs:\")\n",
    "print(predicted_drugs_names)"
   ]
  },
  {
   "cell_type": "code",
   "execution_count": null,
   "id": "97d15595-7e21-4628-b394-f9f8d7b38938",
   "metadata": {},
   "outputs": [],
   "source": []
  }
 ],
 "metadata": {
  "kernelspec": {
   "display_name": "Python 3 (ipykernel)",
   "language": "python",
   "name": "python3"
  },
  "language_info": {
   "codemirror_mode": {
    "name": "ipython",
    "version": 3
   },
   "file_extension": ".py",
   "mimetype": "text/x-python",
   "name": "python",
   "nbconvert_exporter": "python",
   "pygments_lexer": "ipython3",
   "version": "3.12.0"
  }
 },
 "nbformat": 4,
 "nbformat_minor": 5
}
